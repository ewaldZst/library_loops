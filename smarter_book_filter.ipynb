{
 "cells": [
  {
   "cell_type": "markdown",
   "id": "0182b639",
   "metadata": {},
   "source": [
    "# Smarter Book Filter\n",
    "Let’s build on your previous challenge and make your book filter more flexible and user-friendly.\n",
    "\n",
    "In this version, the user can:\n",
    "\n",
    "- input a starting letter\n",
    "\n",
    "- only show books that are \"Available\"\n",
    "\n",
    "- see how many matching books were found in total"
   ]
  },
  {
   "cell_type": "code",
   "execution_count": 32,
   "id": "4c9d94ce",
   "metadata": {},
   "outputs": [],
   "source": [
    "# Define the dictionary with books and their availability\n",
    "library = {\n",
    "    \"The Hobbit\": \"Available\",\n",
    "    \"Slaughterhouse-Five\": \"Available\",\n",
    "    \"Moby Dick\": \"Available\",\n",
    "    \"The Catcher in the Rye\": \"Checked Out\",\n",
    "    \"Siddhartha\": \"Checked Out\",\n",
    "    \"Meditations\": \"Checked Out\",\n",
    "    \"Things Fall Apart\": \"Available\",\n",
    "    \"To Kill a Mockingbird\": \"Checked Out\",\n",
    "    \"Pride and Prejudice\": \"Available\",\n",
    "    \"Jane Eyre\": \"Checked Out\",\n",
    "    \"The Great Gatsby\": \"Available\",\n",
    "    \"War and Peace\": \"Checked Out\",\n",
    "    \"Crime and Punishment\": \"Available\",\n",
    "    \"Brave New World\": \"Available\",\n",
    "    \"A Tale of Two Cities\": \"Checked Out\",\n",
    "    \"Animal Farm\": \"Available\",\n",
    "    \"Dracula\": \"Checked Out\",\n",
    "    \"Frankenstein\": \"Available\",\n",
    "    \"The Road\": \"Available\",\n",
    "    \"The Alchemist\": \"Checked Out\"\n",
    "}"
   ]
  },
  {
   "cell_type": "markdown",
   "id": "32b33fe9",
   "metadata": {},
   "source": [
    "Seen below is our original filter"
   ]
  },
  {
   "cell_type": "code",
   "execution_count": 30,
   "id": "457e82ad",
   "metadata": {},
   "outputs": [
    {
     "name": "stdout",
     "output_type": "stream",
     "text": [
      "Books that start with 'T':\n",
      "The Hobbit\n",
      "The Catcher in the Rye\n",
      "Things Fall Apart\n",
      "To Kill a Mockingbird\n",
      "The Great Gatsby\n",
      "The Road\n",
      "The Alchemist\n"
     ]
    }
   ],
   "source": [
    "# Finding and printing books that start with 'T'\n",
    "print(\"Books that start with 'T':\")\n",
    "for book in library.keys():  \n",
    "    if book.startswith(\"T\"):  \n",
    "        print(book)"
   ]
  },
  {
   "cell_type": "markdown",
   "id": "2c82fdb5",
   "metadata": {},
   "source": [
    "### Follow along each step to complete the challenge! Put your code below the comments"
   ]
  },
  {
   "cell_type": "markdown",
   "id": "94ee443a",
   "metadata": {},
   "source": [
    "## Step 1 : Get the User's Input"
   ]
  },
  {
   "cell_type": "code",
   "execution_count": null,
   "id": "e8e66e9c",
   "metadata": {},
   "outputs": [
    {
     "name": "stdout",
     "output_type": "stream",
     "text": [
      "Please select a menu item below.\n",
      "\n",
      " 1. Search for a book alphabetically.\n",
      "\n",
      " 2. Add a book and define availability.\n",
      "\n",
      " 3. Change book availability status.\n",
      "\n",
      " 4. Exit program.\n",
      "\n",
      "Here is the updated library.\n",
      "{'The Hobbit': 'Available', 'Slaughterhouse-Five': 'Available', 'Moby Dick': 'Available', 'The Catcher in the Rye': 'Checked Out', 'Siddhartha': 'Checked Out', 'Meditations': 'Checked Out', 'Things Fall Apart': 'Available', 'To Kill a Mockingbird': 'Checked Out', 'Pride and Prejudice': 'Available', 'Jane Eyre': 'Checked Out', 'The Great Gatsby': 'Available', 'War and Peace': 'Checked Out', 'Crime and Punishment': 'Available', 'Brave New World': 'Available', 'A Tale of Two Cities': 'Checked Out', 'Animal Farm': 'Available', 'Dracula': 'Checked Out', 'Frankenstein': 'Available', 'The Road': 'Available', 'The Alchemist': 'Checked Out', 'Harry Potter': 'Available'}\n",
      "Please select a menu item below.\n",
      "\n",
      " 1. Search for a book alphabetically.\n",
      "\n",
      " 2. Add a book and define availability.\n",
      "\n",
      " 3. Change book availability status.\n",
      "\n",
      " 4. Exit program.\n",
      "\n",
      "Here is the current library.\n",
      "\n",
      "{'The Hobbit': 'Available', 'Slaughterhouse-Five': 'Available', 'Moby Dick': 'Available', 'The Catcher in the Rye': 'Checked Out', 'Siddhartha': 'Checked Out', 'Meditations': 'Checked Out', 'Things Fall Apart': 'Available', 'To Kill a Mockingbird': 'Checked Out', 'Pride and Prejudice': 'Available', 'Jane Eyre': 'Checked Out', 'The Great Gatsby': 'Available', 'War and Peace': 'Checked Out', 'Crime and Punishment': 'Available', 'Brave New World': 'Available', 'A Tale of Two Cities': 'Checked Out', 'Animal Farm': 'Available', 'Dracula': 'Checked Out', 'Frankenstein': 'Available', 'The Road': 'Available', 'The Alchemist': 'Checked Out', 'Harry Potter': 'Available'}\n",
      "Please select a menu item below.\n",
      "\n",
      " 1. Search for a book alphabetically.\n",
      "\n",
      " 2. Add a book and define availability.\n",
      "\n",
      " 3. Change book availability status.\n",
      "\n",
      " 4. Exit program.\n",
      "\n"
     ]
    }
   ],
   "source": [
    "# Ask the user for a letter to search for.\n",
    "# Use .upper() and .strip() so it works even if they enter lowercase or spaces.\n",
    "# Example: If the user types \" t \", it should become \"T\".\n",
    "\n",
    "## Was struggling thinking through how to break this out into the existing cells below. I'm running out of time for the week, so if I find more time or have some extra time next week I may come back and reformat things and re-push.\n",
    "exitProgram = False\n",
    "def programEndFunc():\n",
    "    programEnd = input(\"Would you like to exit the program? Enter 'Y' or 'N'\").upper().strip()\n",
    "    if programEnd == \"Y\":\n",
    "        exitProgram = True\n",
    "    elif programEnd == \"N\":\n",
    "        exitProgram = False\n",
    "    else:\n",
    "        print(\"Invalid input, exiting program.\")\n",
    "        exitProgram = False\n",
    "        #This probably isn't best practice... but not sure how to go back to programEnd input without another while loop.\n",
    "    \n",
    "while exitProgram == False:\n",
    "    print(\"Please select a menu item below.\\n\")\n",
    "    print(\" 1. Search for a book alphabetically.\\n\")\n",
    "    print(\" 2. Add a book and define availability.\\n\")\n",
    "    print(\" 3. Change book availability status.\\n\")\n",
    "    print(\" 4. Exit program.\\n\")\n",
    "    menuSelection = input()\n",
    "\n",
    "    if menuSelection == \"1\":\n",
    "        startingLetter = []\n",
    "        startingLetter.extend(letter.strip().upper() for letter in input(\"Please enter the first letter of the book title you would like to find. You may enter multiple if separated by a comma. (ex. T, M, R)\").split(\",\"))\n",
    "    elif menuSelection == \"2\":\n",
    "        entered = False\n",
    "        newTitle = input(\"Please type the title of the book you would like to add.\\n\").strip()\n",
    "        while entered == False:\n",
    "            newAvailability = input(\"Please specify whether the book is available. 'A' for available, 'X' for unavailable\\n\").upper().strip()\n",
    "            if newAvailability == \"A\":\n",
    "                newAvailability = \"Available\"\n",
    "                entered = True\n",
    "            elif newAvailability == \"X\":\n",
    "                newAvailability = \"Unavailable\"\n",
    "                entered = True\n",
    "            else:\n",
    "                print(\"Please enter a valid input. 'A' for Available, or 'X' for Unavailable.\\n\")\n",
    "        library[newTitle] = newAvailability\n",
    "        print(\"Here is the updated library.\")\n",
    "        print(library)\n",
    "        programEndFunc()\n",
    "    elif menuSelection == \"3\":\n",
    "        changing = True\n",
    "        while changing == True:\n",
    "            print(\"Here is the current library.\\n\")\n",
    "            print(library)\n",
    "            itemToChange = input(\"Enter the book title you would like to change.\").strip()\n",
    "            bookExists = False\n",
    "            for book in library.keys():\n",
    "                if book == itemToChange:\n",
    "                    bookExists = True\n",
    "            if bookExists == True:\n",
    "                entered = False\n",
    "                while entered == False:\n",
    "                    newAvailability = input(\"Please specify whether the book is available. 'A' for available, 'X' for unavailable\\n\").upper().strip()\n",
    "                    if newAvailability == \"A\":\n",
    "                        newAvailability = \"Available\"\n",
    "                        library[itemToChange] = newAvailability\n",
    "                        changing = False\n",
    "                    elif newAvailability == \"X\":\n",
    "                        newAvailability = \"Checked Out\"\n",
    "                        library[itemToChange] = newAvailability\n",
    "                        changing = False\n",
    "                    else:\n",
    "                        print(\"Please enter a valid input.\")\n",
    "\n",
    "            else:\n",
    "                programEndFunc()\n",
    "    elif menuSelection == \"4\":\n",
    "        exitProgram = True\n",
    "    else:\n",
    "        print(\"Invalid input, exiting program.\")\n",
    "        exitProgram = True\n",
    "\n",
    "\n",
    "\n",
    "        "
   ]
  },
  {
   "cell_type": "markdown",
   "id": "a99d7518",
   "metadata": {},
   "source": [
    "## Step 2: Initialize a counter"
   ]
  },
  {
   "cell_type": "code",
   "execution_count": null,
   "id": "d43dc487",
   "metadata": {},
   "outputs": [],
   "source": [
    "# Create a variable to keep track of how many books match the search.\n",
    "bookCount = 0"
   ]
  },
  {
   "cell_type": "markdown",
   "id": "e90a8008",
   "metadata": {},
   "source": [
    "## Step 3: Display a header message"
   ]
  },
  {
   "cell_type": "code",
   "execution_count": null,
   "id": "2f25ac31",
   "metadata": {},
   "outputs": [
    {
     "name": "stdout",
     "output_type": "stream",
     "text": [
      "\n",
      "Books starting with ['T', 'S', 'M'] that are Available:\n"
     ]
    }
   ],
   "source": [
    "# Print a friendly message before listing the results. (Just run this cell, no need to make changes)\n",
    "print(f\"\\nBooks starting with {startingLetter} that are Available:\")"
   ]
  },
  {
   "cell_type": "markdown",
   "id": "38ae8116",
   "metadata": {},
   "source": [
    "## Step 4: Search through the dictionary"
   ]
  },
  {
   "cell_type": "code",
   "execution_count": null,
   "id": "d72e5d27",
   "metadata": {},
   "outputs": [
    {
     "name": "stdout",
     "output_type": "stream",
     "text": [
      "The Hobbit\n",
      "Slaughterhouse-Five\n",
      "Moby Dick\n",
      "Things Fall Apart\n",
      "The Great Gatsby\n",
      "The Road\n"
     ]
    }
   ],
   "source": [
    "# Loop through the book dictionary to check each title.\n",
    "# Example: for title, status in library.items():\n",
    "# If the title starts with the chosen letter and the status is \"Available\",\n",
    "# print the title and increase match_count by 1.\n",
    "\n",
    "for book, status in library.items():\n",
    "    for letter in startingLetter:\n",
    "        currentLetter = letter\n",
    "        if book.startswith(currentLetter) and status == \"Available\":\n",
    "            print(book)\n",
    "            bookCount = bookCount + 1\n",
    "        "
   ]
  },
  {
   "cell_type": "markdown",
   "id": "5f69b543",
   "metadata": {},
   "source": [
    "## Step 5: Show total matches"
   ]
  },
  {
   "cell_type": "code",
   "execution_count": null,
   "id": "6a4b6b15",
   "metadata": {},
   "outputs": [
    {
     "name": "stdout",
     "output_type": "stream",
     "text": [
      "There are 6 books that start with the letter(s) ['T', 'S', 'M'] and are available to check out.\n"
     ]
    }
   ],
   "source": [
    "# After the loop, print how many books matched.\n",
    "if bookCount > 0:\n",
    "    print(f\"There are {bookCount} books that start with the letter(s) {startingLetter} and are available to check out.\")\n",
    "else:\n",
    "    print(f\"Sorry, we have no books available at the moment that start with {startingLetter}. Please check back soon.\")"
   ]
  },
  {
   "cell_type": "markdown",
   "id": "45bf0af5",
   "metadata": {},
   "source": [
    "# Great job!\n",
    "\n",
    "You’ve built a flexible book filter using a dictionary, conditionals, string methods, and a for loop. Nice work applying what you've learned.\n",
    "\n",
    "This is not required, but if you’d like to go further and make this project more advanced, try one (or all) of these ideas:\n",
    "\n",
    "- Let the user input more than one starting letter (e.g., \"T,S,M\")\n",
    "- Allow the user to choose whether to filter by \"Available\", \"Checked Out\", or show all books\n",
    "- Let users add new books to the dictionary along with their availability status\n",
    "- Give users the ability to change the status of an existing book (for example, from \"Checked Out\" to \"Available\")\n",
    "\n",
    "Try adding one feature at a time to build your skills. \n"
   ]
  }
 ],
 "metadata": {
  "kernelspec": {
   "display_name": "Python 3",
   "language": "python",
   "name": "python3"
  },
  "language_info": {
   "codemirror_mode": {
    "name": "ipython",
    "version": 3
   },
   "file_extension": ".py",
   "mimetype": "text/x-python",
   "name": "python",
   "nbconvert_exporter": "python",
   "pygments_lexer": "ipython3",
   "version": "3.13.0"
  }
 },
 "nbformat": 4,
 "nbformat_minor": 5
}
